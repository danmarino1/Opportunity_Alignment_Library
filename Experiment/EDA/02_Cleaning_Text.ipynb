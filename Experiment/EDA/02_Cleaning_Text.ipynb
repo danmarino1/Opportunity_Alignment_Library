{
 "cells": [
  {
   "cell_type": "markdown",
   "metadata": {},
   "source": [
    "# Cleaning the text across the applications"
   ]
  },
  {
   "cell_type": "code",
   "execution_count": 1,
   "metadata": {},
   "outputs": [],
   "source": [
    "import pandas as pd\n",
    "import numpy as np\n",
    "\n",
    "\n",
    "import re\n",
    "import nltk\n",
    "from nltk.corpus import stopwords\n",
    "from nltk.stem import WordNetLemmatizer\n",
    "from sklearn.feature_extraction.text import CountVectorizer, TfidfVectorizer\n",
    "import warnings\n",
    "from tqdm import tqdm\n",
    "from bs4 import BeautifulSoup\n",
    "\n",
    "# Ignore ipykernel warning\n",
    "warnings.filterwarnings('ignore', category=DeprecationWarning, module='ipykernel')"
   ]
  },
  {
   "cell_type": "code",
   "execution_count": 2,
   "metadata": {},
   "outputs": [],
   "source": [
    "applications = pd.read_parquet('../../Data/split_4_cleaned.parquet')"
   ]
  },
  {
   "cell_type": "code",
   "execution_count": 3,
   "metadata": {},
   "outputs": [
    {
     "data": {
      "text/plain": [
       "Index(['OpportunityId', 'ApplicationId', 'ExternalBriefDescription',\n",
       "       'ExternalDescription', 'Title', 'pass_first_step', 'Step_Category',\n",
       "       'Applicant_Job_Titles', 'Applicant_Job_Responsibilities',\n",
       "       'Applicant_Education', 'Applicant_Reported_Skills'],\n",
       "      dtype='object')"
      ]
     },
     "execution_count": 3,
     "metadata": {},
     "output_type": "execute_result"
    }
   ],
   "source": [
    "applications.columns"
   ]
  },
  {
   "cell_type": "code",
   "execution_count": 4,
   "metadata": {},
   "outputs": [],
   "source": [
    "# Change column names\n",
    "applications.columns = ['opportunity_id', 'application_id', 'opportunity_brief_description',\n",
    "            'opportunity_description', 'opportunity_title', 'application_pass_first_step', 'application_step_category',\n",
    "            'application_job_titles', 'application_job_responsibilities',\n",
    "            'application_education', 'application_reported_skills']\n",
    "# Remove duplicates for job_descriptions\n",
    "original_descriptions = applications.opportunity_description.unique()"
   ]
  },
  {
   "cell_type": "code",
   "execution_count": 5,
   "metadata": {},
   "outputs": [],
   "source": [
    "#These are all lists of strings\n",
    "application_cols = [col for col in applications.columns if 'application_' in col and col != 'application_id']\n",
    "opportunity_cols = [col for col in applications.columns if 'opportunity_' in col and col != 'opportunity_id']\n",
    "\n",
    "applications['application_concat'] = applications[application_cols].astype(str).agg('--'.join,axis=1)\n",
    "\n",
    "applications['application_full_tokenized'] = applications['application_concat'].apply(nltk.word_tokenize)"
   ]
  },
  {
   "cell_type": "code",
   "execution_count": 6,
   "metadata": {},
   "outputs": [],
   "source": [
    "application_cols.append(\"application_concat\")\n",
    "application_cols.append(\"application_full_tokenized\")"
   ]
  },
  {
   "cell_type": "code",
   "execution_count": 7,
   "metadata": {},
   "outputs": [],
   "source": [
    "#If column is object, it will become string\n",
    "for column in applications.columns:\n",
    "    if applications[column].dtype == object:\n",
    "        applications[column] = applications[column].astype(\"string\")"
   ]
  },
  {
   "cell_type": "code",
   "execution_count": 8,
   "metadata": {},
   "outputs": [
    {
     "name": "stdout",
     "output_type": "stream",
     "text": [
      "<class 'pandas.core.frame.DataFrame'>\n",
      "RangeIndex: 22053 entries, 66159 to 88211\n",
      "Data columns (total 13 columns):\n",
      " #   Column                            Non-Null Count  Dtype \n",
      "---  ------                            --------------  ----- \n",
      " 0   opportunity_id                    22053 non-null  string\n",
      " 1   application_id                    22053 non-null  string\n",
      " 2   opportunity_brief_description     22053 non-null  string\n",
      " 3   opportunity_description           22053 non-null  string\n",
      " 4   opportunity_title                 22053 non-null  string\n",
      " 5   application_pass_first_step       22053 non-null  bool  \n",
      " 6   application_step_category         22053 non-null  int64 \n",
      " 7   application_job_titles            22053 non-null  string\n",
      " 8   application_job_responsibilities  22053 non-null  string\n",
      " 9   application_education             22053 non-null  string\n",
      " 10  application_reported_skills       22053 non-null  string\n",
      " 11  application_concat                22053 non-null  string\n",
      " 12  application_full_tokenized        22053 non-null  string\n",
      "dtypes: bool(1), int64(1), string(11)\n",
      "memory usage: 2.0 MB\n"
     ]
    }
   ],
   "source": [
    "applications.info()"
   ]
  },
  {
   "cell_type": "code",
   "execution_count": 9,
   "metadata": {},
   "outputs": [],
   "source": [
    "# # Now let's replace None values in the specified columns\n",
    "# for col in [\"applicant_background\", \"applicant_major\"]:\n",
    "#     applications[col] = applications[col].apply(lambda cell: ['Nothing Here' if item is None else item for item in cell])\n",
    "#     applications[col] = applications[col].apply(lambda cell: [item for i, item in enumerate(cell) if i == 0 or item != 'Nothing Here'])\n",
    "# applications"
   ]
  },
  {
   "cell_type": "markdown",
   "metadata": {},
   "source": [
    "## Preprocessing the data"
   ]
  },
  {
   "cell_type": "code",
   "execution_count": 10,
   "metadata": {},
   "outputs": [
    {
     "data": {
      "text/plain": [
       "Index(['opportunity_id', 'application_id', 'opportunity_brief_description',\n",
       "       'opportunity_description', 'opportunity_title',\n",
       "       'application_pass_first_step', 'application_step_category',\n",
       "       'application_job_titles', 'application_job_responsibilities',\n",
       "       'application_education', 'application_reported_skills',\n",
       "       'application_concat', 'application_full_tokenized'],\n",
       "      dtype='object')"
      ]
     },
     "execution_count": 10,
     "metadata": {},
     "output_type": "execute_result"
    }
   ],
   "source": [
    "applications.columns"
   ]
  },
  {
   "cell_type": "code",
   "execution_count": 11,
   "metadata": {},
   "outputs": [],
   "source": [
    "columns_to_preprocess = ['opportunity_brief_description', 'opportunity_description', 'opportunity_title',\n",
    "                        'application_job_titles', 'application_job_responsibilities',\n",
    "                        'application_concat', 'application_full_tokenized']"
   ]
  },
  {
   "cell_type": "code",
   "execution_count": 12,
   "metadata": {},
   "outputs": [
    {
     "name": "stderr",
     "output_type": "stream",
     "text": [
      "[nltk_data] Downloading package stopwords to\n",
      "[nltk_data]     /Users/danmarino/nltk_data...\n",
      "[nltk_data]   Package stopwords is already up-to-date!\n",
      "[nltk_data] Downloading package wordnet to\n",
      "[nltk_data]     /Users/danmarino/nltk_data...\n",
      "[nltk_data]   Package wordnet is already up-to-date!\n"
     ]
    },
    {
     "name": "stdout",
     "output_type": "stream",
     "text": [
      "working on opportunity_brief_description\n",
      "working on opportunity_description\n",
      "working on opportunity_title\n",
      "working on application_job_titles\n",
      "working on application_job_responsibilities\n",
      "working on application_concat\n",
      "working on application_full_tokenized\n"
     ]
    }
   ],
   "source": [
    "import nltk\n",
    "nltk.download('stopwords')\n",
    "nltk.download('wordnet')\n",
    "import re\n",
    "import nltk\n",
    "from nltk.corpus import stopwords\n",
    "from nltk.stem import WordNetLemmatizer\n",
    "from nltk.tokenize import RegexpTokenizer\n",
    "\n",
    "tokenizer = RegexpTokenizer(r'\\b\\w+\\b')\n",
    "stop_words = set(stopwords.words('english'))\n",
    "lemmatizer = WordNetLemmatizer()\n",
    "\n",
    "def strip_html_tags(text):\n",
    "    html_pattern = re.compile('<.*?>')\n",
    "    text = re.sub(html_pattern, '', text)\n",
    "    return text\n",
    "\n",
    "def preprocess_text(text):\n",
    "    # Strip HTML tags and convert to lowercase\n",
    "    text = strip_html_tags(text).lower()\n",
    "    \n",
    "    # Remove unwanted strings using compiled regex pattern\n",
    "    # This changed\n",
    "    unwanted_strings = ['sign on bonus', 'sign bonus',\n",
    "                         'full time', 'ft', 'part time', 'pt',\n",
    "                        'day shift', 'night shift', 'second shift',\n",
    "                         'third shift', 'first shift', 'none', 'nbsp', 'amp']\n",
    "    unwanted_pattern = re.compile('|'.join(map(re.escape, unwanted_strings)))\n",
    "    text = re.sub(unwanted_pattern, '', text)\n",
    "\n",
    "    # Tokenize the text and remove stopwords while lemmatizing\n",
    "    tokens = [lemmatizer.lemmatize(token) for token in tokenizer.tokenize(text) if token not in stop_words]\n",
    "\n",
    "    # Join the tokens back into a single string\n",
    "    text = ' '.join(tokens)\n",
    "\n",
    "    return text\n",
    "\n",
    "for column in columns_to_preprocess:\n",
    "    print(f\"working on {column}\")\n",
    "    applications[column] = applications[column].astype('string').apply(preprocess_text)\n",
    "\n",
    "applications = applications.astype(str)"
   ]
  },
  {
   "cell_type": "code",
   "execution_count": 13,
   "metadata": {},
   "outputs": [
    {
     "name": "stdout",
     "output_type": "stream",
     "text": [
      "Column: application_pass_first_step\n",
      "Unique data types: {<class 'str'>}\n",
      "Column: application_step_category\n",
      "Unique data types: {<class 'str'>}\n",
      "Column: application_job_titles\n",
      "Unique data types: {<class 'str'>}\n",
      "Column: application_job_responsibilities\n",
      "Unique data types: {<class 'str'>}\n",
      "Column: application_education\n",
      "Unique data types: {<class 'str'>}\n",
      "Column: application_reported_skills\n",
      "Unique data types: {<class 'str'>}\n",
      "Column: application_concat\n",
      "Unique data types: {<class 'str'>}\n",
      "Column: application_full_tokenized\n",
      "Unique data types: {<class 'str'>}\n"
     ]
    }
   ],
   "source": [
    "# Re-run the test code to see if the data types have changed\n",
    "\n",
    "for col in application_cols:\n",
    "    print(\"Column:\", col)\n",
    "    dtypes_of_items = set()  # Use a set to store unique data types\n",
    "    for cell in applications[col]:\n",
    "        for item in cell:\n",
    "            if item is not None:\n",
    "                dtypes_of_items.add(type(item))\n",
    "            else:\n",
    "                dtypes_of_items.add(type(None))\n",
    "    print(\"Unique data types:\", dtypes_of_items)"
   ]
  },
  {
   "cell_type": "markdown",
   "metadata": {},
   "source": [
    "### Everything is a string, which is essential for compatability with the model"
   ]
  },
  {
   "cell_type": "code",
   "execution_count": 14,
   "metadata": {},
   "outputs": [
    {
     "data": {
      "text/html": [
       "<div>\n",
       "<style scoped>\n",
       "    .dataframe tbody tr th:only-of-type {\n",
       "        vertical-align: middle;\n",
       "    }\n",
       "\n",
       "    .dataframe tbody tr th {\n",
       "        vertical-align: top;\n",
       "    }\n",
       "\n",
       "    .dataframe thead th {\n",
       "        text-align: right;\n",
       "    }\n",
       "</style>\n",
       "<table border=\"1\" class=\"dataframe\">\n",
       "  <thead>\n",
       "    <tr style=\"text-align: right;\">\n",
       "      <th></th>\n",
       "      <th>opportunity_id</th>\n",
       "      <th>application_id</th>\n",
       "      <th>opportunity_brief_description</th>\n",
       "      <th>opportunity_description</th>\n",
       "      <th>opportunity_title</th>\n",
       "      <th>application_pass_first_step</th>\n",
       "      <th>application_step_category</th>\n",
       "      <th>application_job_titles</th>\n",
       "      <th>application_job_responsibilities</th>\n",
       "      <th>application_education</th>\n",
       "      <th>application_reported_skills</th>\n",
       "      <th>application_concat</th>\n",
       "      <th>application_full_tokenized</th>\n",
       "    </tr>\n",
       "  </thead>\n",
       "  <tbody>\n",
       "    <tr>\n",
       "      <th>76141</th>\n",
       "      <td>DZ+lnarRi0i8A8bNuWVXoQ==</td>\n",
       "      <td>sEAd1SqMPU+gPLu4OloYag==</td>\n",
       "      <td>15 00 per hour orkin purpose help protect worl...</td>\n",
       "      <td>15 00 per hour orkin purpose help protect worl...</td>\n",
       "      <td>service technician train</td>\n",
       "      <td>True</td>\n",
       "      <td>0</td>\n",
       "      <td>charger fork driver picker laborer machine ope...</td>\n",
       "      <td>li load charging chamber use scrap pusher molt...</td>\n",
       "      <td>Some college</td>\n",
       "      <td>Fanuc++Vacuum++Box truck++Fork lift++Pallet ja...</td>\n",
       "      <td>true 0 charger fork driver picker laborer mach...</td>\n",
       "      <td>true 0 charger fork driver picker laborer mach...</td>\n",
       "    </tr>\n",
       "    <tr>\n",
       "      <th>80495</th>\n",
       "      <td>32SypfnHHku3j/lEyNszSg==</td>\n",
       "      <td>K2AwCoivvUumXnyQBEAK2w==</td>\n",
       "      <td>orkin purpose help protect world live work pla...</td>\n",
       "      <td>orkin purpose help protect world live work pla...</td>\n",
       "      <td>pest control route service specialist</td>\n",
       "      <td>True</td>\n",
       "      <td>0</td>\n",
       "      <td>delivery driver</td>\n",
       "      <td>worked company contracted amazon deliver packa...</td>\n",
       "      <td>High School</td>\n",
       "      <td>Customer Service</td>\n",
       "      <td>true 0 delivery driver worked company contract...</td>\n",
       "      <td>true 0 delivery driver worked company contract...</td>\n",
       "    </tr>\n",
       "    <tr>\n",
       "      <th>79446</th>\n",
       "      <td>A6TNgNp5OkOaKht4leFEJA==</td>\n",
       "      <td>YbYao5x7j0ix/XgaSL8kgQ==</td>\n",
       "      <td>orkin purpose help protect world live work pla...</td>\n",
       "      <td>orkin purpose help protect world live work pla...</td>\n",
       "      <td>service technician train</td>\n",
       "      <td>False</td>\n",
       "      <td>0</td>\n",
       "      <td>delivery specialist administrative photographe...</td>\n",
       "      <td>sale license administrative duty using salesfo...</td>\n",
       "      <td>Diploma</td>\n",
       "      <td>Customer service++Receptionist++Retail sales++...</td>\n",
       "      <td>false 0 delivery specialist administrative pho...</td>\n",
       "      <td>false 0 delivery specialist administrative pho...</td>\n",
       "    </tr>\n",
       "  </tbody>\n",
       "</table>\n",
       "</div>"
      ],
      "text/plain": [
       "                 opportunity_id            application_id  \\\n",
       "76141  DZ+lnarRi0i8A8bNuWVXoQ==  sEAd1SqMPU+gPLu4OloYag==   \n",
       "80495  32SypfnHHku3j/lEyNszSg==  K2AwCoivvUumXnyQBEAK2w==   \n",
       "79446  A6TNgNp5OkOaKht4leFEJA==  YbYao5x7j0ix/XgaSL8kgQ==   \n",
       "\n",
       "                           opportunity_brief_description  \\\n",
       "76141  15 00 per hour orkin purpose help protect worl...   \n",
       "80495  orkin purpose help protect world live work pla...   \n",
       "79446  orkin purpose help protect world live work pla...   \n",
       "\n",
       "                                 opportunity_description  \\\n",
       "76141  15 00 per hour orkin purpose help protect worl...   \n",
       "80495  orkin purpose help protect world live work pla...   \n",
       "79446  orkin purpose help protect world live work pla...   \n",
       "\n",
       "                           opportunity_title application_pass_first_step  \\\n",
       "76141               service technician train                        True   \n",
       "80495  pest control route service specialist                        True   \n",
       "79446               service technician train                       False   \n",
       "\n",
       "      application_step_category  \\\n",
       "76141                         0   \n",
       "80495                         0   \n",
       "79446                         0   \n",
       "\n",
       "                                  application_job_titles  \\\n",
       "76141  charger fork driver picker laborer machine ope...   \n",
       "80495                                    delivery driver   \n",
       "79446  delivery specialist administrative photographe...   \n",
       "\n",
       "                        application_job_responsibilities  \\\n",
       "76141  li load charging chamber use scrap pusher molt...   \n",
       "80495  worked company contracted amazon deliver packa...   \n",
       "79446  sale license administrative duty using salesfo...   \n",
       "\n",
       "      application_education  \\\n",
       "76141          Some college   \n",
       "80495           High School   \n",
       "79446               Diploma   \n",
       "\n",
       "                             application_reported_skills  \\\n",
       "76141  Fanuc++Vacuum++Box truck++Fork lift++Pallet ja...   \n",
       "80495                                   Customer Service   \n",
       "79446  Customer service++Receptionist++Retail sales++...   \n",
       "\n",
       "                                      application_concat  \\\n",
       "76141  true 0 charger fork driver picker laborer mach...   \n",
       "80495  true 0 delivery driver worked company contract...   \n",
       "79446  false 0 delivery specialist administrative pho...   \n",
       "\n",
       "                              application_full_tokenized  \n",
       "76141  true 0 charger fork driver picker laborer mach...  \n",
       "80495  true 0 delivery driver worked company contract...  \n",
       "79446  false 0 delivery specialist administrative pho...  "
      ]
     },
     "execution_count": 14,
     "metadata": {},
     "output_type": "execute_result"
    }
   ],
   "source": [
    "applications.sample(3)"
   ]
  },
  {
   "cell_type": "markdown",
   "metadata": {},
   "source": [
    "### We want zero NoneType"
   ]
  },
  {
   "cell_type": "code",
   "execution_count": 16,
   "metadata": {},
   "outputs": [],
   "source": [
    "applications.to_parquet('../../Data/split_4_preprocessed.parquet')"
   ]
  }
 ],
 "metadata": {
  "kernelspec": {
   "display_name": "Python 3",
   "language": "python",
   "name": "python3"
  },
  "language_info": {
   "codemirror_mode": {
    "name": "ipython",
    "version": 3
   },
   "file_extension": ".py",
   "mimetype": "text/x-python",
   "name": "python",
   "nbconvert_exporter": "python",
   "pygments_lexer": "ipython3",
   "version": "3.9.17"
  },
  "orig_nbformat": 4
 },
 "nbformat": 4,
 "nbformat_minor": 2
}
