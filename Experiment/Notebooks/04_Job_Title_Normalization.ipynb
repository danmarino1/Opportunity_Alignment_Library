{
 "cells": [
  {
   "cell_type": "code",
   "execution_count": 13,
   "metadata": {},
   "outputs": [],
   "source": [
    "import pandas as pd\n",
    "import re"
   ]
  },
  {
   "cell_type": "code",
   "execution_count": 14,
   "metadata": {},
   "outputs": [],
   "source": [
    "sample_file_path = '../../Data/Sample2.csv'\n",
    "sample_data = pd.read_csv(sample_file_path)\n"
   ]
  },
  {
   "cell_type": "code",
   "execution_count": 15,
   "metadata": {},
   "outputs": [
    {
     "data": {
      "text/html": [
       "<div>\n",
       "<style scoped>\n",
       "    .dataframe tbody tr th:only-of-type {\n",
       "        vertical-align: middle;\n",
       "    }\n",
       "\n",
       "    .dataframe tbody tr th {\n",
       "        vertical-align: top;\n",
       "    }\n",
       "\n",
       "    .dataframe thead th {\n",
       "        text-align: right;\n",
       "    }\n",
       "</style>\n",
       "<table border=\"1\" class=\"dataframe\">\n",
       "  <thead>\n",
       "    <tr style=\"text-align: right;\">\n",
       "      <th></th>\n",
       "      <th>O*NET-SOC Code</th>\n",
       "      <th>Title</th>\n",
       "      <th>Description</th>\n",
       "    </tr>\n",
       "  </thead>\n",
       "  <tbody>\n",
       "    <tr>\n",
       "      <th>0</th>\n",
       "      <td>11-1011.00</td>\n",
       "      <td>Chief Executives</td>\n",
       "      <td>Determine and formulate policies and provide o...</td>\n",
       "    </tr>\n",
       "    <tr>\n",
       "      <th>1</th>\n",
       "      <td>11-1011.03</td>\n",
       "      <td>Chief Sustainability Officers</td>\n",
       "      <td>Communicate and coordinate with management, sh...</td>\n",
       "    </tr>\n",
       "    <tr>\n",
       "      <th>2</th>\n",
       "      <td>11-1021.00</td>\n",
       "      <td>General and Operations Managers</td>\n",
       "      <td>Plan, direct, or coordinate the operations of ...</td>\n",
       "    </tr>\n",
       "    <tr>\n",
       "      <th>3</th>\n",
       "      <td>11-1031.00</td>\n",
       "      <td>Legislators</td>\n",
       "      <td>Develop, introduce, or enact laws and statutes...</td>\n",
       "    </tr>\n",
       "    <tr>\n",
       "      <th>4</th>\n",
       "      <td>11-2011.00</td>\n",
       "      <td>Advertising and Promotions Managers</td>\n",
       "      <td>Plan, direct, or coordinate advertising polici...</td>\n",
       "    </tr>\n",
       "  </tbody>\n",
       "</table>\n",
       "</div>"
      ],
      "text/plain": [
       "  O*NET-SOC Code                                Title  \\\n",
       "0     11-1011.00                     Chief Executives   \n",
       "1     11-1011.03        Chief Sustainability Officers   \n",
       "2     11-1021.00      General and Operations Managers   \n",
       "3     11-1031.00                          Legislators   \n",
       "4     11-2011.00  Advertising and Promotions Managers   \n",
       "\n",
       "                                         Description  \n",
       "0  Determine and formulate policies and provide o...  \n",
       "1  Communicate and coordinate with management, sh...  \n",
       "2  Plan, direct, or coordinate the operations of ...  \n",
       "3  Develop, introduce, or enact laws and statutes...  \n",
       "4  Plan, direct, or coordinate advertising polici...  "
      ]
     },
     "execution_count": 15,
     "metadata": {},
     "output_type": "execute_result"
    }
   ],
   "source": [
    "onet_data = pd.read_csv(\"../../Data/Occupation Data.txt\", sep=\"\\t\")\n",
    "\n",
    "# Displaying the first few rows of the O*NET data to understand the structure\n",
    "onet_data.head()"
   ]
  },
  {
   "cell_type": "code",
   "execution_count": 16,
   "metadata": {},
   "outputs": [],
   "source": [
    "def preprocess_text(text):\n",
    "    # Convert text to lowercase\n",
    "    text = text.lower()\n",
    "    # Remove special characters and punctuations\n",
    "    text = re.sub(r'[^\\w\\s]', '', text)\n",
    "    return text"
   ]
  },
  {
   "cell_type": "code",
   "execution_count": 17,
   "metadata": {},
   "outputs": [
    {
     "data": {
      "text/plain": [
       "(0                       chief executives\n",
       " 1          chief sustainability officers\n",
       " 2        general and operations managers\n",
       " 3                            legislators\n",
       " 4    advertising and promotions managers\n",
       " Name: Title, dtype: object,\n",
       " 0                             rn\n",
       " 1    associate software engineer\n",
       " 2                           rnor\n",
       " 3    certified medical assistant\n",
       " 4       business process analyst\n",
       " Name: Title, dtype: object)"
      ]
     },
     "execution_count": 17,
     "metadata": {},
     "output_type": "execute_result"
    }
   ],
   "source": [
    "# Apply preprocessing to the O*NET titles\n",
    "onet_data['Title'] = onet_data['Title'].apply(preprocess_text)\n",
    "\n",
    "# Apply preprocessing to the sample titles\n",
    "sample_data['Title'] = sample_data['Title'].apply(preprocess_text)\n",
    "\n",
    "# Displaying the first few rows of the preprocessed O*NET and sample data\n",
    "onet_data['Title'].head(), sample_data['Title'].head()"
   ]
  },
  {
   "cell_type": "code",
   "execution_count": 19,
   "metadata": {},
   "outputs": [
    {
     "name": "stderr",
     "output_type": "stream",
     "text": [
      "Some weights of the model checkpoint at bert-base-uncased were not used when initializing BertModel: ['cls.seq_relationship.weight', 'cls.predictions.transform.dense.bias', 'cls.predictions.bias', 'cls.predictions.transform.LayerNorm.weight', 'cls.seq_relationship.bias', 'cls.predictions.transform.dense.weight', 'cls.predictions.transform.LayerNorm.bias']\n",
      "- This IS expected if you are initializing BertModel from the checkpoint of a model trained on another task or with another architecture (e.g. initializing a BertForSequenceClassification model from a BertForPreTraining model).\n",
      "- This IS NOT expected if you are initializing BertModel from the checkpoint of a model that you expect to be exactly identical (initializing a BertForSequenceClassification model from a BertForSequenceClassification model).\n"
     ]
    },
    {
     "data": {
      "text/plain": [
       "(torch.Size([1016, 768]), torch.Size([175, 768]))"
      ]
     },
     "execution_count": 19,
     "metadata": {},
     "output_type": "execute_result"
    }
   ],
   "source": [
    "from transformers import BertTokenizer, BertModel\n",
    "import torch\n",
    "\n",
    "# Load the BERT tokenizer and model\n",
    "tokenizer = BertTokenizer.from_pretrained('bert-base-uncased')\n",
    "model = BertModel.from_pretrained('bert-base-uncased')\n",
    "\n",
    "# Function to embed a list of titles using BERT\n",
    "def embed_titles(titles):\n",
    "    embeddings = []\n",
    "    for title in titles:\n",
    "        # Tokenize the title\n",
    "        inputs = tokenizer(title, return_tensors=\"pt\", padding=True, truncation=True)\n",
    "        # Get BERT's output\n",
    "        outputs = model(**inputs)\n",
    "        # Get the average of the last hidden state to represent the title\n",
    "        embedding = torch.mean(outputs.last_hidden_state, dim=1)\n",
    "        embeddings.append(embedding.squeeze().detach())\n",
    "    return torch.stack(embeddings)\n",
    "\n",
    "onet_titles = onet_data['Title'].unique()\n",
    "\n",
    "# Embed O*NET titles\n",
    "onet_embeddings = embed_titles(onet_titles)\n",
    "\n",
    "# Embed sample titles\n",
    "sample_embeddings = embed_titles(sample_data['Title'])\n",
    "\n",
    "# Check the shape of the embeddings\n",
    "onet_embeddings.shape, sample_embeddings.shape\n"
   ]
  },
  {
   "cell_type": "code",
   "execution_count": 21,
   "metadata": {},
   "outputs": [
    {
     "data": {
      "text/html": [
       "<div>\n",
       "<style scoped>\n",
       "    .dataframe tbody tr th:only-of-type {\n",
       "        vertical-align: middle;\n",
       "    }\n",
       "\n",
       "    .dataframe tbody tr th {\n",
       "        vertical-align: top;\n",
       "    }\n",
       "\n",
       "    .dataframe thead th {\n",
       "        text-align: right;\n",
       "    }\n",
       "</style>\n",
       "<table border=\"1\" class=\"dataframe\">\n",
       "  <thead>\n",
       "    <tr style=\"text-align: right;\">\n",
       "      <th></th>\n",
       "      <th>Original_Title</th>\n",
       "      <th>Matched_ONET_Title</th>\n",
       "    </tr>\n",
       "  </thead>\n",
       "  <tbody>\n",
       "    <tr>\n",
       "      <th>0</th>\n",
       "      <td>rn</td>\n",
       "      <td>legislators</td>\n",
       "    </tr>\n",
       "    <tr>\n",
       "      <th>1</th>\n",
       "      <td>associate software engineer</td>\n",
       "      <td>computer hardware engineers</td>\n",
       "    </tr>\n",
       "    <tr>\n",
       "      <th>2</th>\n",
       "      <td>rnor</td>\n",
       "      <td>legislators</td>\n",
       "    </tr>\n",
       "    <tr>\n",
       "      <th>3</th>\n",
       "      <td>certified medical assistant</td>\n",
       "      <td>clinical nurse specialists</td>\n",
       "    </tr>\n",
       "    <tr>\n",
       "      <th>4</th>\n",
       "      <td>business process analyst</td>\n",
       "      <td>business intelligence analysts</td>\n",
       "    </tr>\n",
       "  </tbody>\n",
       "</table>\n",
       "</div>"
      ],
      "text/plain": [
       "                Original_Title              Matched_ONET_Title\n",
       "0                           rn                     legislators\n",
       "1  associate software engineer     computer hardware engineers\n",
       "2                         rnor                     legislators\n",
       "3  certified medical assistant      clinical nurse specialists\n",
       "4     business process analyst  business intelligence analysts"
      ]
     },
     "execution_count": 21,
     "metadata": {},
     "output_type": "execute_result"
    }
   ],
   "source": [
    "from sklearn.metrics.pairwise import cosine_similarity\n",
    "\n",
    "# Calculate the cosine similarity between sample and O*NET embeddings\n",
    "similarities = cosine_similarity(sample_embeddings, onet_embeddings)\n",
    "\n",
    "# Get the index of the most similar O*NET title for each sample title\n",
    "most_similar_indices = similarities.argmax(axis=1)\n",
    "\n",
    "# Map the indices to the actual O*NET titles\n",
    "matched_onet_titles = [onet_titles[idx] for idx in most_similar_indices]\n",
    "\n",
    "# Create a DataFrame with the original titles and matched O*NET titles\n",
    "result_df = pd.DataFrame({\n",
    "    'Original_Title': sample_data['Title'],\n",
    "    'Matched_ONET_Title': matched_onet_titles\n",
    "})\n",
    "\n",
    "# Optionally, save the result to a CSV file\n",
    "result_df.to_csv('matched_titles.csv', index=False)\n",
    "\n",
    "result_df.head()\n"
   ]
  },
  {
   "cell_type": "code",
   "execution_count": 23,
   "metadata": {},
   "outputs": [],
   "source": [
    "result_df.to_csv(\"result.csv\")"
   ]
  },
  {
   "cell_type": "code",
   "execution_count": 24,
   "metadata": {},
   "outputs": [
    {
     "data": {
      "text/plain": [
       "(175, 2)"
      ]
     },
     "execution_count": 24,
     "metadata": {},
     "output_type": "execute_result"
    }
   ],
   "source": [
    "result_df.shape"
   ]
  },
  {
   "cell_type": "code",
   "execution_count": 25,
   "metadata": {},
   "outputs": [
    {
     "data": {
      "text/html": [
       "<div>\n",
       "<style scoped>\n",
       "    .dataframe tbody tr th:only-of-type {\n",
       "        vertical-align: middle;\n",
       "    }\n",
       "\n",
       "    .dataframe tbody tr th {\n",
       "        vertical-align: top;\n",
       "    }\n",
       "\n",
       "    .dataframe thead th {\n",
       "        text-align: right;\n",
       "    }\n",
       "</style>\n",
       "<table border=\"1\" class=\"dataframe\">\n",
       "  <thead>\n",
       "    <tr style=\"text-align: right;\">\n",
       "      <th></th>\n",
       "      <th>Original_Title</th>\n",
       "      <th>Matched_ONET_Title</th>\n",
       "    </tr>\n",
       "  </thead>\n",
       "  <tbody>\n",
       "    <tr>\n",
       "      <th>0</th>\n",
       "      <td>rn</td>\n",
       "      <td>legislators</td>\n",
       "    </tr>\n",
       "    <tr>\n",
       "      <th>1</th>\n",
       "      <td>associate software engineer</td>\n",
       "      <td>computer hardware engineers</td>\n",
       "    </tr>\n",
       "    <tr>\n",
       "      <th>2</th>\n",
       "      <td>rnor</td>\n",
       "      <td>legislators</td>\n",
       "    </tr>\n",
       "    <tr>\n",
       "      <th>3</th>\n",
       "      <td>certified medical assistant</td>\n",
       "      <td>clinical nurse specialists</td>\n",
       "    </tr>\n",
       "    <tr>\n",
       "      <th>4</th>\n",
       "      <td>business process analyst</td>\n",
       "      <td>business intelligence analysts</td>\n",
       "    </tr>\n",
       "    <tr>\n",
       "      <th>...</th>\n",
       "      <td>...</td>\n",
       "      <td>...</td>\n",
       "    </tr>\n",
       "    <tr>\n",
       "      <th>170</th>\n",
       "      <td>job fair virtual teachers</td>\n",
       "      <td>instructional coordinators</td>\n",
       "    </tr>\n",
       "    <tr>\n",
       "      <th>171</th>\n",
       "      <td>parttime store associate</td>\n",
       "      <td>customer service representatives</td>\n",
       "    </tr>\n",
       "    <tr>\n",
       "      <th>172</th>\n",
       "      <td>store associate</td>\n",
       "      <td>model makers wood</td>\n",
       "    </tr>\n",
       "    <tr>\n",
       "      <th>173</th>\n",
       "      <td>mental health specialist correctional services</td>\n",
       "      <td>mental health and substance abuse social workers</td>\n",
       "    </tr>\n",
       "    <tr>\n",
       "      <th>174</th>\n",
       "      <td>job fair virtual teachers</td>\n",
       "      <td>instructional coordinators</td>\n",
       "    </tr>\n",
       "  </tbody>\n",
       "</table>\n",
       "<p>175 rows × 2 columns</p>\n",
       "</div>"
      ],
      "text/plain": [
       "                                     Original_Title  \\\n",
       "0                                                rn   \n",
       "1                       associate software engineer   \n",
       "2                                              rnor   \n",
       "3                       certified medical assistant   \n",
       "4                          business process analyst   \n",
       "..                                              ...   \n",
       "170                       job fair virtual teachers   \n",
       "171                        parttime store associate   \n",
       "172                                 store associate   \n",
       "173  mental health specialist correctional services   \n",
       "174                       job fair virtual teachers   \n",
       "\n",
       "                                   Matched_ONET_Title  \n",
       "0                                         legislators  \n",
       "1                         computer hardware engineers  \n",
       "2                                         legislators  \n",
       "3                          clinical nurse specialists  \n",
       "4                      business intelligence analysts  \n",
       "..                                                ...  \n",
       "170                        instructional coordinators  \n",
       "171                  customer service representatives  \n",
       "172                                 model makers wood  \n",
       "173  mental health and substance abuse social workers  \n",
       "174                        instructional coordinators  \n",
       "\n",
       "[175 rows x 2 columns]"
      ]
     },
     "execution_count": 25,
     "metadata": {},
     "output_type": "execute_result"
    }
   ],
   "source": [
    "result_df"
   ]
  }
 ],
 "metadata": {
  "kernelspec": {
   "display_name": "job_desc_project",
   "language": "python",
   "name": "python3"
  },
  "language_info": {
   "codemirror_mode": {
    "name": "ipython",
    "version": 3
   },
   "file_extension": ".py",
   "mimetype": "text/x-python",
   "name": "python",
   "nbconvert_exporter": "python",
   "pygments_lexer": "ipython3",
   "version": "3.9.17"
  },
  "orig_nbformat": 4
 },
 "nbformat": 4,
 "nbformat_minor": 2
}
